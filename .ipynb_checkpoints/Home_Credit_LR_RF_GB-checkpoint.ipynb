{
 "cells": [
  {
   "cell_type": "markdown",
   "metadata": {
    "_uuid": "ce6b014caf0b13c60e7ffab7f56b307223308dc8"
   },
   "source": [
    "## Loading packages and data"
   ]
  },
  {
   "cell_type": "code",
   "execution_count": 1,
   "metadata": {
    "_cell_guid": "b1076dfc-b9ad-4769-8c92-a6c4dae69d19",
    "_uuid": "8f2839f25d086af736a60e9eeb907d3b93b6e0e5"
   },
   "outputs": [
    {
     "ename": "ModuleNotFoundError",
     "evalue": "No module named 'imputer'",
     "output_type": "error",
     "traceback": [
      "\u001b[0;31m---------------------------------------------------------------------------\u001b[0m",
      "\u001b[0;31mModuleNotFoundError\u001b[0m                       Traceback (most recent call last)",
      "\u001b[0;32m<ipython-input-1-a55c321df9f6>\u001b[0m in \u001b[0;36m<module>\u001b[0;34m()\u001b[0m\n\u001b[1;32m     12\u001b[0m \u001b[0;32mfrom\u001b[0m \u001b[0mIPython\u001b[0m\u001b[0;34m.\u001b[0m\u001b[0mdisplay\u001b[0m \u001b[0;32mimport\u001b[0m \u001b[0mdisplay\u001b[0m\u001b[0;34m,\u001b[0m \u001b[0mHTML\u001b[0m\u001b[0;34m\u001b[0m\u001b[0m\n\u001b[1;32m     13\u001b[0m \u001b[0;34m\u001b[0m\u001b[0m\n\u001b[0;32m---> 14\u001b[0;31m \u001b[0;32mfrom\u001b[0m \u001b[0mimputer\u001b[0m \u001b[0;32mimport\u001b[0m \u001b[0mImputer\u001b[0m\u001b[0;34m\u001b[0m\u001b[0m\n\u001b[0m\u001b[1;32m     15\u001b[0m \u001b[0;32mimport\u001b[0m \u001b[0mlightgbm\u001b[0m \u001b[0;32mas\u001b[0m \u001b[0mlgb\u001b[0m\u001b[0;34m\u001b[0m\u001b[0m\n\u001b[1;32m     16\u001b[0m \u001b[0;32mfrom\u001b[0m \u001b[0msklearn\u001b[0m\u001b[0;34m.\u001b[0m\u001b[0msvm\u001b[0m \u001b[0;32mimport\u001b[0m \u001b[0mLinearSVC\u001b[0m\u001b[0;34m\u001b[0m\u001b[0m\n",
      "\u001b[0;31mModuleNotFoundError\u001b[0m: No module named 'imputer'"
     ]
    }
   ],
   "source": [
    "import numpy as np\n",
    "import pandas as pd\n",
    "from scipy import stats\n",
    "import matplotlib as mpl\n",
    "import matplotlib.pyplot as plt\n",
    "import seaborn as sns\n",
    "import missingno as msno\n",
    "import os\n",
    "import warnings\n",
    "warnings.simplefilter('ignore')\n",
    "\n",
    "from IPython.display import display, HTML\n",
    "\n",
    "from imputer import Imputer\n",
    "import lightgbm as lgb\n",
    "from sklearn.svm import LinearSVC\n",
    "from sklearn.model_selection import train_test_split, GridSearchCV, RandomizedSearchCV\n",
    "from sklearn.preprocessing import LabelBinarizer, LabelEncoder, StandardScaler, RobustScaler\n",
    "from sklearn.linear_model import SGDClassifier, LogisticRegression\n",
    "from sklearn.metrics import roc_auc_score\n",
    "from sklearn.ensemble import RandomForestClassifier"
   ]
  },
  {
   "cell_type": "code",
   "execution_count": null,
   "metadata": {
    "_uuid": "342107436dca5f56f88a52ccc109ec95e7d7b376"
   },
   "outputs": [],
   "source": [
    "print(os.listdir(\"../input\"))"
   ]
  },
  {
   "cell_type": "code",
   "execution_count": null,
   "metadata": {
    "_uuid": "c27f82f1c820e5bf4ba56ceaf84f85a29e0d188f",
    "collapsed": true
   },
   "outputs": [],
   "source": [
    "data_train = pd.read_csv('../input/application_train.csv')"
   ]
  },
  {
   "cell_type": "code",
   "execution_count": null,
   "metadata": {
    "_cell_guid": "79c7e3d0-c299-4dcb-8224-4455121ee9b0",
    "_kg_hide-output": false,
    "_uuid": "d629ff2d2480ee46fbb7e2d37f6b5fab8052498a",
    "collapsed": true
   },
   "outputs": [],
   "source": [
    "#print( list(data_train.columns) ) "
   ]
  },
  {
   "cell_type": "markdown",
   "metadata": {
    "_uuid": "72c16b697f6ddec781ce438a9f0fded76a068f97"
   },
   "source": [
    "## EDA\n",
    "First of all, I'm going to deal with the main dataset \"application_train.csv\".  As most of descriptive staistics and visualization (e. g. distributions of single variables, number of nans, etc.) are presented on [Kaggle](https://www.kaggle.com/c/home-credit-default-risk/data#), I'll use it without reduplicating the same information in this notebook."
   ]
  },
  {
   "cell_type": "code",
   "execution_count": null,
   "metadata": {
    "_uuid": "61ad31266e8068977f0109dcc1562419ea888ab1"
   },
   "outputs": [],
   "source": [
    "data_train.info()"
   ]
  },
  {
   "cell_type": "markdown",
   "metadata": {
    "_uuid": "4b72cbebb0d04272f3cc722da5402cc1409c2a98"
   },
   "source": [
    "Firstly, I'd like to see distributions of continious variables in dataset according to their class and find variables that have significant difference between classes and can have a bigger impact inside the model."
   ]
  },
  {
   "cell_type": "code",
   "execution_count": null,
   "metadata": {
    "_uuid": "50b8d5e8978988c9f39c7f093a97166d07e5f435"
   },
   "outputs": [],
   "source": [
    "index = 0\n",
    "for i in data_train.drop(columns='SK_ID_CURR').columns:\n",
    "    if np.dtype(data_train[i]) == 'float64' and len(data_train[i].dropna())/data_train.shape[0] > 0.6:\n",
    "        #if sum(data_train[i].dropna() == data_train[i].dropna().astype('int64')):\n",
    "            index +=1\n",
    "            plt.subplot(4, 5, index)\n",
    "            #sns.boxplot(x = data_train.TARGET, y = data_train[i].dropna()[abs(stats.zscore(data_train[i].dropna())) < 3])\n",
    "            curr_feature_1 = data_train[i][data_train.TARGET == 1].dropna()\n",
    "            curr_feature_0 = data_train[i][data_train.TARGET == 0].dropna()\n",
    "            sns.distplot(curr_feature_1[abs(stats.zscore(curr_feature_1)) < 3]) #to reduce most of outliers\n",
    "            sns.distplot(curr_feature_0[abs(stats.zscore(curr_feature_0)) < 3])\n",
    "\n",
    "plt.subplots_adjust(top=3, bottom=0, left=0, right=3, hspace=0.25, wspace=0.55)\n",
    "plt.show()"
   ]
  },
  {
   "cell_type": "code",
   "execution_count": null,
   "metadata": {
    "_uuid": "f919dbcaadef1040a533e1659109f869384baeb0"
   },
   "outputs": [],
   "source": [
    "index = 0\n",
    "for i in data_train.drop(columns=['SK_ID_CURR', 'TARGET']).columns:\n",
    "    if np.dtype(data_train[i]) == 'int64' and len(data_train[i].dropna())/data_train.shape[0] > 0.6 and len(data_train[i].unique()) > 50:\n",
    "        index +=1\n",
    "        plt.subplot(1, 3, index)\n",
    "        curr_feature_1 = data_train[i][data_train.TARGET == 1].dropna()\n",
    "        curr_feature_0 = data_train[i][data_train.TARGET == 0].dropna()\n",
    "        #sns.boxplot(x = data_train.TARGET, y = data_train[i].dropna()[data_train.TARGET == 0])\n",
    "        #sns.boxplot(x = data_train.TARGET, y = data_train[i].dropna()[data_train.TARGET == 1])\n",
    "        sns.distplot(curr_feature_1)\n",
    "        sns.distplot(curr_feature_0)\n",
    "plt.subplots_adjust(top=1, bottom=0, left=0, right=3, hspace=0.25, wspace=0.55)\n",
    "plt.show()"
   ]
  },
  {
   "cell_type": "markdown",
   "metadata": {
    "_uuid": "3a3167adb6b5a5c445660bc6fc85078e90b87ada"
   },
   "source": [
    "Well, according to graphs (taking into account that they are in the interval of 3 sd), some of them are visualised in inappropriate way, except those that are actually continious. So, some of the variables show different distribution between classes like EXT_SOURCE_2(3), DAYS_BIRTH, and probably AMT_INCOME_TOTAL which is quite right-skewed and has outliers, so I need to look a bit closer or apply some transformation. "
   ]
  },
  {
   "cell_type": "code",
   "execution_count": null,
   "metadata": {
    "_uuid": "be0d421ff95689cea0a3cc553ec6aabe1e12a820"
   },
   "outputs": [],
   "source": [
    "plt.subplot(211)\n",
    "sns.distplot(np.log(data_train.AMT_INCOME_TOTAL[data_train.TARGET == 0] + 1))\n",
    "plt.subplot(212)\n",
    "sns.distplot(np.log(data_train.AMT_INCOME_TOTAL[data_train.TARGET == 1] + 1))\n",
    "plt.show()"
   ]
  },
  {
   "cell_type": "code",
   "execution_count": null,
   "metadata": {
    "_uuid": "d55cd527aff8ef81e50e6061e4f2be3fefdec064"
   },
   "outputs": [],
   "source": [
    "sum(np.log(data_train.AMT_INCOME_TOTAL + 1) > 14) #outliers"
   ]
  },
  {
   "cell_type": "markdown",
   "metadata": {
    "_uuid": "2ca58fc6ba1d3dafae32542a08b3093ea77aa423"
   },
   "source": [
    "Now, let's take a look at the varibles of type object,  I'll create crosstables that will show the percentege of TARGET = 1 and TARGET = 0 inside each class of presented variables in order to indicate class or set of them that can be associated with TARGET = 1. However, on the stage of inferential statistics it should be taken into account that there are some very unbalanced classes presented in the tables below."
   ]
  },
  {
   "cell_type": "code",
   "execution_count": null,
   "metadata": {
    "_uuid": "f5ab3ed7e0dcfc1685bc88438ace8e1dc2667660"
   },
   "outputs": [],
   "source": [
    "index = 0\n",
    "for i in data_train.drop(columns=['SK_ID_CURR', 'TARGET']).columns:\n",
    "    if np.dtype(data_train[i]) == 'O' and len(data_train[i].dropna())/data_train.shape[0] > 0.6:\n",
    "        tab = pd.crosstab(data_train.TARGET, data_train[i], margins=True)\n",
    "        display(HTML((tab/tab.loc[tab.index[-1]]).to_html()))"
   ]
  },
  {
   "cell_type": "markdown",
   "metadata": {
    "_uuid": "6549c31d4c535c5de37dbefd32ce55950c12c349"
   },
   "source": [
    "So, there are some varibles and classes that have a higher percenatge of TARGET = 1. Well, probably it would be better to redefine multinominal features into two classes, for example, \"Higher risk\" and \"Lower risk\", what will also allow us not to enlarge the dimensionality with dummy encoding, and then make sure that difference in percentages are statistically significant (e.g. apply chi-square criteria)."
   ]
  },
  {
   "cell_type": "markdown",
   "metadata": {
    "_uuid": "64d745cfe15f2b2f0a5ba68110c1c77ba28c694f"
   },
   "source": [
    "The same is with binary features that are presnted below."
   ]
  },
  {
   "cell_type": "code",
   "execution_count": null,
   "metadata": {
    "_uuid": "46d4e00d9910335cbc47b01cda367a57de62f596"
   },
   "outputs": [],
   "source": [
    "index = 0\n",
    "for i in data_train.drop(columns=['SK_ID_CURR', 'TARGET']).columns:\n",
    "    if np.dtype(data_train[i]) == 'int64' and len(data_train[i].dropna())/data_train.shape[0] > 0.6 and len(data_train[i].unique()) < 100:\n",
    "        tab = pd.crosstab(data_train.TARGET, data_train[i], margins=True)\n",
    "        display(HTML((tab/tab.loc[tab.index[-1]]).to_html()))"
   ]
  },
  {
   "cell_type": "markdown",
   "metadata": {
    "_uuid": "92a0f81fdb740ccca952e395d4a88d6495b71d7a"
   },
   "source": [
    "## Hypotheses testing"
   ]
  },
  {
   "cell_type": "markdown",
   "metadata": {
    "_uuid": "b4931b76d86e9c30db9a4dc31562c6adc0addb18"
   },
   "source": [
    "In this block, I'll perform chi-square test for those variables that seem to have a significant association with TARGET."
   ]
  },
  {
   "cell_type": "code",
   "execution_count": null,
   "metadata": {
    "_uuid": "867578fb46c2c8b0908c78817cdb5e5d8202b48d",
    "collapsed": true
   },
   "outputs": [],
   "source": [
    "def chi_test(data, feature, target = 'TARGET', group_classes=False):\n",
    "    \n",
    "    if sum(pd.isna(data[feature])):\n",
    "        data[feature].replace(np.nan, 'Unknown', inplace=True)\n",
    "\n",
    "    cnt_table = pd.crosstab(data[target], data[feature])#to check if there are enough observations in each class\n",
    "    \n",
    "    if group_classes:\n",
    "        tab = pd.crosstab(data[target], data[feature], margins=True)\n",
    "        tab = tab/tab.loc[tab.index[-1]]\n",
    "        labels = {}\n",
    "        for i in cnt_table.columns:\n",
    "            if tab[i][1] > tab['All'][1]:\n",
    "                labels[i] = 'High risk'\n",
    "            else:\n",
    "                labels[i] = 'Low risk'\n",
    "        cnt_bi_table = pd.crosstab(data[target], data[feature].replace(labels))\n",
    "        chi = stats.chi2_contingency(cnt_bi_table)\n",
    "        display(HTML(pd.crosstab(data[target], data[feature].replace(labels), margins=True).to_html()))\n",
    "        print( { 'Chi-square statisitc': chi[0],\n",
    "           'p-value': chi[1], \n",
    "          'df': chi[2]} )\n",
    "        return labels\n",
    "    else:\n",
    "        chi = stats.chi2_contingency(cnt_table)                           \n",
    "        display(HTML(pd.crosstab(data[target], data[feature], margins=True).to_html()))\n",
    "        print( { 'Chi-square statisitc': chi[0],\n",
    "           'p-value': chi[1], \n",
    "          'df': chi[2]} )"
   ]
  },
  {
   "cell_type": "code",
   "execution_count": null,
   "metadata": {
    "_uuid": "c6332d99f2f6492a59e472a1d927feb15d5a45d7"
   },
   "outputs": [],
   "source": [
    "chi_test(data_train[data_train.CODE_GENDER != 'XNA'], 'CODE_GENDER')"
   ]
  },
  {
   "cell_type": "code",
   "execution_count": null,
   "metadata": {
    "_uuid": "1c2c1eba30f9f7e66a00a2a9eb72e4cd71dda272",
    "scrolled": true
   },
   "outputs": [],
   "source": [
    "inc_labels = chi_test(data_train, 'NAME_INCOME_TYPE', group_classes=True)"
   ]
  },
  {
   "cell_type": "markdown",
   "metadata": {
    "_uuid": "2630023437f5b215c5eef8599d0effa4493f78e6"
   },
   "source": [
    "So, here we see that while the groups High risk and Low risk have almost the same number of observatoins (158801 and 148710) the class TARGET=1 is almost 60% frequent than TARGET=0, therefore probably such division can be informative in model. The same can be done with the next feature NAME_EDUCATION_TYPE, but as far as this feature is ordinal, I think it'd better to put them in right order while encoding. "
   ]
  },
  {
   "cell_type": "code",
   "execution_count": null,
   "metadata": {
    "_uuid": "8010a9246362ffc14f9c940d5a50e1f649fd917e"
   },
   "outputs": [],
   "source": [
    "hsng_labels = chi_test(data_train, 'NAME_HOUSING_TYPE', group_classes=True)"
   ]
  },
  {
   "cell_type": "markdown",
   "metadata": {
    "_uuid": "126a81b3c6e331d4bf309121cd4d82d0ff57ea58"
   },
   "source": [
    "Well, although p-value is significant, the difference in TARGET = 1 between groups is about 3%, therefore I don't think that this feature should be present in model with such division."
   ]
  },
  {
   "cell_type": "code",
   "execution_count": null,
   "metadata": {
    "_uuid": "4cb72e1cb8c3a75ad0be4af465e652b08402a79a"
   },
   "outputs": [],
   "source": [
    "occup_labels = chi_test(data_train, 'OCCUPATION_TYPE', group_classes=True)"
   ]
  },
  {
   "cell_type": "markdown",
   "metadata": {
    "_uuid": "ce4ee6251f487819f3d5d5bb2f553dff8b580333"
   },
   "source": [
    "Here we see the difference in about 4%, not much, but still it can be included in the model in such division, because it has too many classes."
   ]
  },
  {
   "cell_type": "code",
   "execution_count": null,
   "metadata": {
    "_uuid": "e596c6e85f012b681984ae3434c0ea319c9ee49c",
    "scrolled": true
   },
   "outputs": [],
   "source": [
    "orgn_labels = chi_test(data_train, 'ORGANIZATION_TYPE', group_classes=True)"
   ]
  },
  {
   "cell_type": "markdown",
   "metadata": {
    "_uuid": "678b5f6d4be6dbf8a31c642ee402e35d65c26aba"
   },
   "source": [
    "In this feature there is also a significant difference in numbers between High risk TARGET=1 and Low risk TARGET = 1, moreover such grouping in this feature again reduces quite a big number of classes (58)."
   ]
  },
  {
   "cell_type": "markdown",
   "metadata": {
    "_uuid": "23455871f3dc51585e5eb17ae9844a16c3c81b94"
   },
   "source": [
    "## Data preprocessing"
   ]
  },
  {
   "cell_type": "markdown",
   "metadata": {
    "_uuid": "b13b8594b921769f3e42de025d70db6184cf3f17"
   },
   "source": [
    "### Dealing with NA"
   ]
  },
  {
   "cell_type": "markdown",
   "metadata": {
    "_uuid": "f101bed6a2882dd786fb290eb680e075bf194edf"
   },
   "source": [
    "The are quite a lot of features that have too many missing values. Let's see what can be done about it. The first feature OWN_CAR_AGE has for about 66% values missing.  As there is also FLAG_OWN_CAR feature that represents if client have a car, we will see if nans can be explained by absence of the car."
   ]
  },
  {
   "cell_type": "code",
   "execution_count": null,
   "metadata": {
    "_uuid": "d382d719b48fe25747c7ca9664ed17dc11866264"
   },
   "outputs": [],
   "source": [
    "data_train.shape"
   ]
  },
  {
   "cell_type": "code",
   "execution_count": null,
   "metadata": {
    "_uuid": "698d3f737e55b10e5a01329450f24e37a3fce22f"
   },
   "outputs": [],
   "source": [
    "print( sum(data_train.FLAG_OWN_CAR == \"Y\") )\n",
    "print( data_train.OWN_CAR_AGE.dropna().shape )"
   ]
  },
  {
   "cell_type": "markdown",
   "metadata": {
    "_uuid": "59553838a0e2e6197463fb424a754719d1eb0838",
    "collapsed": true
   },
   "source": [
    "Well, obviously nans are produced by absence of the car, then we can just impute 0 instead of nans. "
   ]
  },
  {
   "cell_type": "code",
   "execution_count": null,
   "metadata": {
    "_uuid": "6fea46c92ddb6d01cde278011dad38df640070ba",
    "collapsed": true
   },
   "outputs": [],
   "source": [
    "data_train.OWN_CAR_AGE.fillna(value = 0, inplace=True)"
   ]
  },
  {
   "cell_type": "markdown",
   "metadata": {
    "_uuid": "8b7133542b08cba5bdc7b6aae2d927e93f182628",
    "collapsed": true
   },
   "source": [
    "The next feature is OCCUPATION_TYPE and we don't know the origin of nans. I suppose that it can be two things: client refused telling it or he doesn't have a job, but still both of these tells us some information about client, therefore I will replace nans by 'Unknown'.  After cleaning data from missing values I'll encode this feature."
   ]
  },
  {
   "cell_type": "code",
   "execution_count": null,
   "metadata": {
    "_uuid": "a1af06d48b8ba58061a0bda4c939c2cc66cd24bc"
   },
   "outputs": [],
   "source": [
    "print( data_train.OCCUPATION_TYPE.unique() )\n",
    "data_train.OCCUPATION_TYPE.fillna(value = 'Unknown', inplace=True)"
   ]
  },
  {
   "cell_type": "markdown",
   "metadata": {
    "_uuid": "38a80152b3dfe418432bad8bd6a4be2ae108228d",
    "collapsed": true
   },
   "source": [
    "Next subset of features is about means of communications provided by client. There are very imbalanced classes inside each feature, so it should be taken into account during train-test split. Moreover some features are presented by only one class that significantly prevail and some of them can be dropped."
   ]
  },
  {
   "cell_type": "code",
   "execution_count": null,
   "metadata": {
    "_uuid": "d8ceaeb834a29a646bb804e0999f95c90d05b1d0"
   },
   "outputs": [],
   "source": [
    "print( sum(data_train.FLAG_MOBIL == 0) )\n",
    "print( sum(data_train.FLAG_MOBIL == 1) )"
   ]
  },
  {
   "cell_type": "code",
   "execution_count": null,
   "metadata": {
    "_uuid": "2080c9fd6bf63b0a8bf5c874ea73876aa5221dd4"
   },
   "outputs": [],
   "source": [
    "print( sum(data_train.FLAG_CONT_MOBILE == 0) )\n",
    "print( sum(data_train.FLAG_CONT_MOBILE == 1) )"
   ]
  },
  {
   "cell_type": "code",
   "execution_count": null,
   "metadata": {
    "_uuid": "c245a2954f6eed2cda2d0bab01da5904ad3b1c67",
    "collapsed": true
   },
   "outputs": [],
   "source": [
    "data_train.drop(columns=['FLAG_MOBIL', 'FLAG_CONT_MOBILE'], inplace=True)"
   ]
  },
  {
   "cell_type": "markdown",
   "metadata": {
    "_uuid": "878bcf51f63b3980cfdc813808e13829ec6becdc"
   },
   "source": [
    "Another subset of features is about provided documents and almost all of them have an enormous dominance by one class, so I think it would make sense to combine them to feature which will represent the number of provided documents."
   ]
  },
  {
   "cell_type": "code",
   "execution_count": null,
   "metadata": {
    "_uuid": "7626b29701d0bf46880cdec23db42f96a1a86491"
   },
   "outputs": [],
   "source": [
    "data_train.shape"
   ]
  },
  {
   "cell_type": "code",
   "execution_count": null,
   "metadata": {
    "_uuid": "cc40e7a88f4f671d178cde1d7d8b83d726d7c705",
    "collapsed": true
   },
   "outputs": [],
   "source": [
    "data_train['DOC_COUNT'] = data_train.FLAG_DOCUMENT_2\n",
    "\n",
    "for i in range(3, 22):\n",
    "    data_train['DOC_COUNT'] = data_train['DOC_COUNT'] + data_train['FLAG_DOCUMENT_'+str(i)]"
   ]
  },
  {
   "cell_type": "markdown",
   "metadata": {
    "_uuid": "1428c90dbd393a7fcc1b8054335ef0b7df01acde",
    "collapsed": true
   },
   "source": [
    "The next subset (second plot below) of features has too many nans (>50%) and it would be better to see how these nans distributed in our data. "
   ]
  },
  {
   "cell_type": "code",
   "execution_count": null,
   "metadata": {
    "_uuid": "db33da222a43316e04b2380ad92b496e386e7b30"
   },
   "outputs": [],
   "source": [
    "msno.matrix(data_train.iloc[:,0:42])\n",
    "plt.show()"
   ]
  },
  {
   "cell_type": "code",
   "execution_count": null,
   "metadata": {
    "_uuid": "06704804cd31b632fea9e731c9d82a9c7010f905"
   },
   "outputs": [],
   "source": [
    "msno.matrix(data_train.iloc[:,42:89])\n",
    "plt.show()"
   ]
  },
  {
   "cell_type": "code",
   "execution_count": null,
   "metadata": {
    "_uuid": "01a8c7bb947d22cc3b7b8e86810e964c995c225b"
   },
   "outputs": [],
   "source": [
    "msno.matrix(data_train.iloc[:,89:])\n",
    "plt.show()"
   ]
  },
  {
   "cell_type": "markdown",
   "metadata": {
    "_uuid": "964a8ab5a354201ef54ff7f7cb0d13cc77ebb129",
    "collapsed": true
   },
   "source": [
    "Well, we see that almost all features from the second plot have too many missings. All these features are connected with the information about apartments. As it would be inaccurate to use features with such number of missings, probably it would be better to create one feature from them, that would represent the percentage of known information about client's apartments."
   ]
  },
  {
   "cell_type": "code",
   "execution_count": null,
   "metadata": {
    "_uuid": "06ae8d078f99e6186516fb1c3f408014c3e02b77",
    "collapsed": true
   },
   "outputs": [],
   "source": [
    "for i in data_train.iloc[:, 42:56].columns:\n",
    "    data_train[i] = -pd.isna(data_train[i])\n",
    "\n",
    "for i in data_train.iloc[:, 84:89].columns:\n",
    "    data_train[i] = -pd.isna(data_train[i])"
   ]
  },
  {
   "cell_type": "code",
   "execution_count": null,
   "metadata": {
    "_uuid": "c571eb95456dee86c0e869de6bd2098f60401b6b",
    "collapsed": true
   },
   "outputs": [],
   "source": [
    "data_train['HOUSE_INFO'] = (data_train.iloc[:, 84:89].sum(axis=1) + data_train.iloc[:, 42:56].sum(axis=1))/19"
   ]
  },
  {
   "cell_type": "markdown",
   "metadata": {
    "_uuid": "69769afb62533c20705a7cdc509570b33d594f73"
   },
   "source": [
    "The last five columns shows the number of enquiries to Credit Bureau and number of enquiries of each next column excludes those that were already marked in previous one. Nans make up 14% in each column. I'll fill them later."
   ]
  },
  {
   "cell_type": "code",
   "execution_count": null,
   "metadata": {
    "_uuid": "e6333b06d4826dd9c780d7472b9468e96b40adc2",
    "collapsed": true
   },
   "outputs": [],
   "source": [
    "#for i in data_train.iloc[:, 114:120].columns:\n",
    "#   data_train[i].fillna(data_train[i].median(), inplace = True)"
   ]
  },
  {
   "cell_type": "markdown",
   "metadata": {
    "_uuid": "479396d6ee24e03b521eb1851b5076cc88ff871b",
    "collapsed": true
   },
   "source": [
    "Now dropping all columns that have (>=50%) of values missing and those that was combined into one (DOC_COUNT)."
   ]
  },
  {
   "cell_type": "code",
   "execution_count": null,
   "metadata": {
    "_uuid": "0d17667c3c1254721f9e21c9438918658877848d",
    "collapsed": true
   },
   "outputs": [],
   "source": [
    "data_train.drop(columns=data_train.iloc[:, 94:114].columns, inplace=True)\n",
    "data_train.drop(columns=data_train.iloc[:, 42:89].columns, inplace=True)\n",
    "data_train.drop(columns='EXT_SOURCE_1', inplace=True)"
   ]
  },
  {
   "cell_type": "markdown",
   "metadata": {
    "_uuid": "7a586fac63cb71c4d57a2966122b31a6a02a6321"
   },
   "source": [
    "The last column with a significant number of gaps is EXT_SOURCE_3, that has 16% of values missing, therefore I must find an appropriate way to fill them."
   ]
  },
  {
   "cell_type": "code",
   "execution_count": null,
   "metadata": {
    "_uuid": "5e9833fd5bfee2ca93d01d50ce0df4fd71c48932",
    "scrolled": true
   },
   "outputs": [],
   "source": [
    "sns.distplot(data_train.EXT_SOURCE_3.dropna())\n",
    "sns.distplot(data_train.EXT_SOURCE_3.fillna(data_train.EXT_SOURCE_3.dropna().median()))\n",
    "plt.show()"
   ]
  },
  {
   "cell_type": "markdown",
   "metadata": {
    "_uuid": "85cbc3a187ef39ae3421f8d3019e297f5776fec3"
   },
   "source": [
    "Well, as for me, imputations that made using mean/median are not suitable in that case because they violate the distribution. Probably, it would be better to use another strategy, for example, KNN to fill these gaps taking into account what values have nearest objects in a multidimensional space, but firstly, it's better to encode categorical features in order to perform imputation function faster. "
   ]
  },
  {
   "cell_type": "code",
   "execution_count": null,
   "metadata": {
    "_uuid": "4f209d256f9127316d2956791acfaab3d452a0e8",
    "scrolled": true
   },
   "outputs": [],
   "source": [
    "data_train.info()"
   ]
  },
  {
   "cell_type": "code",
   "execution_count": null,
   "metadata": {
    "_uuid": "71f98a200f6ffe2031e2358cba689a4486d29e12",
    "collapsed": true
   },
   "outputs": [],
   "source": [
    "to_be_scaled = ['DAYS_BIRTH', 'DAYS_EMPLOYED', 'DAYS_ID_PUBLISH']\n",
    "for i in data_train.columns:\n",
    "    if data_train[i].dtype == 'float64':\n",
    "        to_be_scaled.append(i)"
   ]
  },
  {
   "cell_type": "code",
   "execution_count": null,
   "metadata": {
    "_uuid": "bc62dd299c58b62c43a27905e7602bc2646314b6",
    "collapsed": true
   },
   "outputs": [],
   "source": [
    "#data_train.head()"
   ]
  },
  {
   "cell_type": "markdown",
   "metadata": {
    "_uuid": "59f0ea03c40972b4dc0d1ec3dc74c345ce817481"
   },
   "source": [
    "### Encoding"
   ]
  },
  {
   "cell_type": "code",
   "execution_count": null,
   "metadata": {
    "_uuid": "dad28d28cfce487c5862d025d983a1ac69d3ac73",
    "scrolled": true
   },
   "outputs": [],
   "source": [
    "for i in data_train.columns:\n",
    "    if data_train[i].dtype == 'O':\n",
    "        print( [i, data_train[i].unique()] )"
   ]
  },
  {
   "cell_type": "code",
   "execution_count": null,
   "metadata": {
    "_uuid": "6623586512db5b5fef012c6ec050f990c429ee3e"
   },
   "outputs": [],
   "source": [
    "sum(data_train.CODE_GENDER == 'XNA')"
   ]
  },
  {
   "cell_type": "code",
   "execution_count": null,
   "metadata": {
    "_uuid": "2ec8abfc6b39ea727286a0c0cb2edd5b15a461e3",
    "collapsed": true,
    "scrolled": false
   },
   "outputs": [],
   "source": [
    "data_train.CODE_GENDER.replace('XNA', 'F', inplace=True)\n",
    "data_train.NAME_INCOME_TYPE.replace(inc_labels, inplace=True)\n",
    "data_train.OCCUPATION_TYPE.replace(occup_labels, inplace=True)\n",
    "data_train.ORGANIZATION_TYPE.replace(orgn_labels, inplace=True)\n",
    "data_train.WEEKDAY_APPR_PROCESS_START.replace({'WEDNESDAY': 'Week', 'MONDAY': 'Week', 'THURSDAY': 'Week', 'SUNDAY': 'Weekend',\n",
    "                                               'SATURDAY': 'Weekend', 'FRIDAY': 'Week', 'TUESDAY': 'Week'}, inplace=True)"
   ]
  },
  {
   "cell_type": "code",
   "execution_count": null,
   "metadata": {
    "_uuid": "b02d43596e079777355598a1bcc813030ecf3c5f"
   },
   "outputs": [],
   "source": [
    "data_train.head()"
   ]
  },
  {
   "cell_type": "code",
   "execution_count": null,
   "metadata": {
    "_uuid": "b72c69edfcbf2764b7b40cfb102a1bbe70aadd59",
    "collapsed": true
   },
   "outputs": [],
   "source": [
    "binarizer = LabelBinarizer()"
   ]
  },
  {
   "cell_type": "code",
   "execution_count": null,
   "metadata": {
    "_uuid": "436a65651633c885491622968a56a3001347a160",
    "collapsed": true
   },
   "outputs": [],
   "source": [
    "for i in data_train.columns:\n",
    "    if data_train[i].dtype == 'O' and len(data_train[i].unique()) == 2:\n",
    "        data_train[i] = binarizer.fit_transform(data_train[i])"
   ]
  },
  {
   "cell_type": "code",
   "execution_count": null,
   "metadata": {
    "_uuid": "c3a909bc4b1714985ab15e2aa5f2b7926e741dd0",
    "collapsed": true
   },
   "outputs": [],
   "source": [
    "#data_train.head()"
   ]
  },
  {
   "cell_type": "code",
   "execution_count": null,
   "metadata": {
    "_uuid": "1d6b7e6f459bfea65dab78be51e5c486c43edcc9",
    "collapsed": true
   },
   "outputs": [],
   "source": [
    "encoder = LabelEncoder()"
   ]
  },
  {
   "cell_type": "code",
   "execution_count": null,
   "metadata": {
    "_uuid": "be1908099793a0eafd8f2f892ae8f83da4bacba3"
   },
   "outputs": [],
   "source": [
    "sum(data_train.NAME_TYPE_SUITE.isnull())"
   ]
  },
  {
   "cell_type": "code",
   "execution_count": null,
   "metadata": {
    "_uuid": "7dd83841e9a298c57d3116e0efe986778b108595",
    "collapsed": true
   },
   "outputs": [],
   "source": [
    "data_train.NAME_TYPE_SUITE = encoder.fit_transform(data_train.NAME_TYPE_SUITE.replace(np.nan, 'Unknown'))"
   ]
  },
  {
   "cell_type": "code",
   "execution_count": null,
   "metadata": {
    "_uuid": "e1f0f677129023135890bbd5fa048b39b39ab502"
   },
   "outputs": [],
   "source": [
    "print( encoder.classes_ )\n",
    "sum(data_train.NAME_TYPE_SUITE == 7)"
   ]
  },
  {
   "cell_type": "code",
   "execution_count": null,
   "metadata": {
    "_uuid": "b42d7fc188b89adc73eb8a1a7a0c02ce5636ea42",
    "collapsed": true
   },
   "outputs": [],
   "source": [
    "data_train.NAME_TYPE_SUITE.replace('Unknown', np.nan, inplace=True)"
   ]
  },
  {
   "cell_type": "code",
   "execution_count": null,
   "metadata": {
    "_uuid": "d425ed12650f04c240b2a603df4fe5e4abdee357",
    "collapsed": true
   },
   "outputs": [],
   "source": [
    "data_train.NAME_EDUCATION_TYPE = encoder.fit_transform(data_train.NAME_EDUCATION_TYPE)"
   ]
  },
  {
   "cell_type": "code",
   "execution_count": null,
   "metadata": {
    "_uuid": "9acf984da453cae74e7421e8113a4e289046e9ed"
   },
   "outputs": [],
   "source": [
    "encoder.classes_ #ordered"
   ]
  },
  {
   "cell_type": "code",
   "execution_count": null,
   "metadata": {
    "_uuid": "45dfb577a6f3a5c0ae415db90d667649d278f5f0",
    "collapsed": true
   },
   "outputs": [],
   "source": [
    "data_train = pd.get_dummies(data_train)"
   ]
  },
  {
   "cell_type": "code",
   "execution_count": null,
   "metadata": {
    "_uuid": "44f5392d7cbfbfaa7749f94b2f36f332027ceb6f"
   },
   "outputs": [],
   "source": [
    "data_train.shape"
   ]
  },
  {
   "cell_type": "markdown",
   "metadata": {
    "_uuid": "30334d21018ae2b6b195e9c72f5d38b643f80167",
    "collapsed": true
   },
   "source": [
    "### Imputation"
   ]
  },
  {
   "cell_type": "code",
   "execution_count": null,
   "metadata": {
    "_uuid": "573e2e8ab0f71ef8a298ec161a855ed52a1d38a3",
    "collapsed": true
   },
   "outputs": [],
   "source": [
    "impute = Imputer()"
   ]
  },
  {
   "cell_type": "code",
   "execution_count": null,
   "metadata": {
    "_uuid": "4f92656ef4b78ffd24b9bfdde566a54a06e6808e"
   },
   "outputs": [],
   "source": [
    "%%time\n",
    "data_train_cl = pd.DataFrame(impute.knn(X=data_train, column='EXT_SOURCE_3', k = 3), columns=data_train.columns)"
   ]
  },
  {
   "cell_type": "code",
   "execution_count": null,
   "metadata": {
    "_uuid": "caa22a8515b069fc9024c98d3d185b331ad7b43e"
   },
   "outputs": [],
   "source": [
    "sns.distplot(data_train.EXT_SOURCE_3.dropna())\n",
    "sns.distplot(data_train_cl.EXT_SOURCE_3)\n",
    "plt.show()"
   ]
  },
  {
   "cell_type": "code",
   "execution_count": null,
   "metadata": {
    "_uuid": "9a304b640cba34e7a49b940760818dce5a26d185"
   },
   "outputs": [],
   "source": [
    "%%time\n",
    "for i in data_train.columns:\n",
    "    if sum(data_train[i].isnull()):\n",
    "        data_train_cl = pd.DataFrame(impute.knn(X=data_train_cl, column=i, k = 3), columns=data_train.columns)"
   ]
  },
  {
   "cell_type": "code",
   "execution_count": null,
   "metadata": {
    "_uuid": "dacd88c5af942717f768b053a583f61a6950538d"
   },
   "outputs": [],
   "source": [
    "data_train_cl.head()"
   ]
  },
  {
   "cell_type": "markdown",
   "metadata": {
    "_uuid": "32bacb29e597617b3492e0e952441bbcf973c0dc"
   },
   "source": [
    "### Standardization"
   ]
  },
  {
   "cell_type": "code",
   "execution_count": null,
   "metadata": {
    "_uuid": "5e88d6fa85dcce467dbdd0257dc7ff3e9f0273ca",
    "collapsed": true
   },
   "outputs": [],
   "source": [
    "std = RobustScaler()\n",
    "for i in to_be_scaled:\n",
    "    data_train_cl[i] = std.fit_transform(pd.DataFrame(data_train_cl[i], columns=[i]))"
   ]
  },
  {
   "cell_type": "markdown",
   "metadata": {
    "_uuid": "c4390393549de59b056707850fbecd426b285352",
    "collapsed": true
   },
   "source": [
    "## Model Building"
   ]
  },
  {
   "cell_type": "markdown",
   "metadata": {
    "_uuid": "27358e1a254b8d7d5ef5a1289e5f9d5a74f64a81"
   },
   "source": [
    "### Logistic regression"
   ]
  },
  {
   "cell_type": "code",
   "execution_count": null,
   "metadata": {
    "_uuid": "de9685f63c0721ba98da9fa61bc2e445fe5252d1",
    "collapsed": true
   },
   "outputs": [],
   "source": [
    "X_train, X_test, y_train, y_test = train_test_split(data_train_cl.drop(columns='TARGET'), \n",
    "                                                    data_train_cl.TARGET, test_size=0.2, random_state=23, stratify=data_train_cl.TARGET)"
   ]
  },
  {
   "cell_type": "code",
   "execution_count": null,
   "metadata": {
    "_uuid": "78ef349c3864cca925e22e3e7d72e14571f6d08e",
    "scrolled": true
   },
   "outputs": [],
   "source": [
    "%%time\n",
    "results = {}\n",
    "for i in [0.001, 0.01, 0.1, 1, 2]:\n",
    "    lgreg = LogisticRegression(C=i, class_weight='balanced', penalty='l2', max_iter=1000)\n",
    "    lgreg.fit(X=X_train, y=y_train)\n",
    "    pred = lgreg.predict(X_test)\n",
    "    results[i] = roc_auc_score(y_test, pred)"
   ]
  },
  {
   "cell_type": "code",
   "execution_count": null,
   "metadata": {
    "_uuid": "da4995a1569a26012663fbaf1e9142e12de06767"
   },
   "outputs": [],
   "source": [
    "results"
   ]
  },
  {
   "cell_type": "markdown",
   "metadata": {
    "_uuid": "9e543296aa15a70f5a2ac13ac59309fa6ab38ea1",
    "collapsed": true
   },
   "source": [
    "### Random Forest"
   ]
  },
  {
   "cell_type": "code",
   "execution_count": null,
   "metadata": {
    "_uuid": "30f833eea49578f5c7a3c21a613b859b0bbdca01",
    "collapsed": true
   },
   "outputs": [],
   "source": [
    "forest = RandomForestClassifier(max_depth=10, n_estimators=200, class_weight='balanced', n_jobs=-1)"
   ]
  },
  {
   "cell_type": "code",
   "execution_count": null,
   "metadata": {
    "_uuid": "09a824dfc55d503561119a9e4bb7cc1809a3d85b"
   },
   "outputs": [],
   "source": [
    "%%time\n",
    "forest.fit(X_train, y_train)"
   ]
  },
  {
   "cell_type": "code",
   "execution_count": null,
   "metadata": {
    "_uuid": "6781b5f20e2a2b5c1127abce074864562d8b5fe7"
   },
   "outputs": [],
   "source": [
    "pred2 = forest.predict(X_test)"
   ]
  },
  {
   "cell_type": "code",
   "execution_count": null,
   "metadata": {
    "_uuid": "e8a19f6f02b1179231dc818f00f3a5a8b679ea7c"
   },
   "outputs": [],
   "source": [
    "roc_auc_score(y_test, pred2)"
   ]
  },
  {
   "cell_type": "markdown",
   "metadata": {
    "_uuid": "e3730baaef1d951fb56a06935848a9f668906b99",
    "collapsed": true
   },
   "source": [
    "### Gradient boosting"
   ]
  },
  {
   "cell_type": "code",
   "execution_count": null,
   "metadata": {
    "_uuid": "e97be91f00c14a0282ad711e524470eddd1da8f7",
    "collapsed": true
   },
   "outputs": [],
   "source": [
    "# for validation lgb\n",
    "X_train_v, X_test_v, y_train_v, y_test_v = train_test_split(X_train, \n",
    "                                                    y_train, test_size=0.2, random_state=23)"
   ]
  },
  {
   "cell_type": "code",
   "execution_count": null,
   "metadata": {
    "_uuid": "18406e355e1b85a50c79679a2df17f0b2cce2301",
    "collapsed": true
   },
   "outputs": [],
   "source": [
    "train_data = lgb.Dataset(X_train_v, label=y_train_v)\n",
    "test_data = lgb.Dataset(X_test_v, label=y_test_v)"
   ]
  },
  {
   "cell_type": "code",
   "execution_count": null,
   "metadata": {
    "_uuid": "2daa15793e86aede86dcca14d0a39022718c30f8",
    "collapsed": true
   },
   "outputs": [],
   "source": [
    "parameters = {\n",
    "    'application': 'binary',\n",
    "    'objective': 'binary',\n",
    "    'metric': 'auc',\n",
    "    'is_unbalance': 'true',\n",
    "    'boosting': 'gbdt',\n",
    "    'num_leaves': 50,\n",
    "    'feature_fraction': 0.5,\n",
    "    'bagging_fraction': 0.5,\n",
    "    'bagging_freq': 30,\n",
    "    'learning_rate': 0.05,\n",
    "    'verbose': 0\n",
    "}\n"
   ]
  },
  {
   "cell_type": "code",
   "execution_count": null,
   "metadata": {
    "_uuid": "13a74a1b5f678c3bc80f5ef555af056831564f5f"
   },
   "outputs": [],
   "source": [
    "model = lgb.train(parameters,\n",
    "                       train_data,\n",
    "                       valid_sets=test_data,\n",
    "                       num_boost_round=5000,\n",
    "                       early_stopping_rounds=100)"
   ]
  },
  {
   "cell_type": "markdown",
   "metadata": {
    "_uuid": "23fcb381c9cae0e7fb9f0f26042291d9e9832d1d"
   },
   "source": [
    "Testing on left-off set"
   ]
  },
  {
   "cell_type": "code",
   "execution_count": null,
   "metadata": {
    "_uuid": "81ef12c97200e2bda598d6813edf50c8a1050ccc",
    "collapsed": true
   },
   "outputs": [],
   "source": [
    "pred4= model.predict(X_test)"
   ]
  },
  {
   "cell_type": "code",
   "execution_count": null,
   "metadata": {
    "_uuid": "4f5a15fcbf6603d051c1e0457cf9d87b5f742bc7"
   },
   "outputs": [],
   "source": [
    "roc_auc_score(y_test, pred4)"
   ]
  }
 ],
 "metadata": {
  "kernelspec": {
   "display_name": "Python 3",
   "language": "python",
   "name": "python3"
  },
  "language_info": {
   "codemirror_mode": {
    "name": "ipython",
    "version": 3
   },
   "file_extension": ".py",
   "mimetype": "text/x-python",
   "name": "python",
   "nbconvert_exporter": "python",
   "pygments_lexer": "ipython3",
   "version": "3.6.8"
  }
 },
 "nbformat": 4,
 "nbformat_minor": 1
}
