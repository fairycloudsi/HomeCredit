{
 "cells": [
  {
   "cell_type": "markdown",
   "metadata": {
    "_uuid": "0ae131807ff23796210d5bdc10e6dcb038bea652"
   },
   "source": []
  },
  {
   "cell_type": "code",
   "execution_count": 1,
   "metadata": {
    "_cell_guid": "b1076dfc-b9ad-4769-8c92-a6c4dae69d19",
    "_uuid": "8f2839f25d086af736a60e9eeb907d3b93b6e0e5"
   },
   "outputs": [],
   "source": [
    "import pandas as pd\n",
    "import numpy as np\n",
    "import warnings\n",
    "import time\n",
    "warnings.filterwarnings(\"ignore\")\n",
    "import lightgbm as lgb\n",
    "from bayes_opt import BayesianOptimization\n",
    "from sklearn.metrics import roc_auc_score"
   ]
  },
  {
   "cell_type": "code",
   "execution_count": 2,
   "metadata": {
    "_cell_guid": "79c7e3d0-c299-4dcb-8224-4455121ee9b0",
    "_uuid": "d629ff2d2480ee46fbb7e2d37f6b5fab8052498a"
   },
   "outputs": [],
   "source": [
    "application_train = pd.read_csv('/Users/fairy/Documents/data science/kaggle_summer18/code/input/application_train.csv')\n",
    "from sklearn.preprocessing import LabelEncoder\n",
    "def label_encoder(input_df, encoder_dict=None):\n",
    "    \"\"\" Process a dataframe into a form useable by LightGBM \"\"\"\n",
    "    # Label encode categoricals\n",
    "    categorical_feats = input_df.columns[input_df.dtypes == 'object']\n",
    "    for feat in categorical_feats:\n",
    "        encoder = LabelEncoder()\n",
    "        input_df[feat] = encoder.fit_transform(input_df[feat].fillna('NULL'))\n",
    "    return input_df, categorical_feats.tolist(), encoder_dict\n",
    "application_train, categorical_feats, encoder_dict = label_encoder(application_train)\n",
    "X = application_train.drop('TARGET', axis=1)\n",
    "y = application_train.TARGET"
   ]
  },
  {
   "cell_type": "markdown",
   "metadata": {
    "_uuid": "d32f1f813d7eeb86125c8ff526f8925c422a5096"
   },
   "source": [
    "### Step 1: parameters to be tuned\n",
    "**Note**: values for parameters should make sense, e.g.: 'num_leaves' needs to be a integer and 'feature_fraction' should between 0 and 1"
   ]
  },
  {
   "cell_type": "code",
   "execution_count": 3,
   "metadata": {
    "_uuid": "14c0f91c2e16816d6b68a033b31539db910fb27a"
   },
   "outputs": [],
   "source": [
    "def lgb_eval(num_leaves, feature_fraction, bagging_fraction, max_depth, lambda_l1, lambda_l2, min_split_gain, min_child_weight):\n",
    "    params = {'application':'binary','num_iterations':4000, 'learning_rate':0.05, 'early_stopping_round':100, 'metric':'auc'}\n",
    "    params[\"num_leaves\"] = round(num_leaves)\n",
    "    params['feature_fraction'] = max(min(feature_fraction, 1), 0)\n",
    "    params['bagging_fraction'] = max(min(bagging_fraction, 1), 0)\n",
    "    params['max_depth'] = round(max_depth)\n",
    "    params['lambda_l1'] = max(lambda_l1, 0)\n",
    "    params['lambda_l2'] = max(lambda_l2, 0)\n",
    "    params['min_split_gain'] = min_split_gain\n",
    "    params['min_child_weight'] = min_child_weight\n",
    "    cv_result = lgb.cv(params, train_data, nfold=n_folds, seed=random_seed, stratified=True, verbose_eval =200, metrics=['auc'])\n",
    "    return max(cv_result['auc-mean'])"
   ]
  },
  {
   "cell_type": "markdown",
   "metadata": {
    "_uuid": "2c12b26e61112fee99f74337460fec971e8bad34"
   },
   "source": [
    "### Step 2: Set the range for each parameter\n",
    "**Gentle reminder**: try to make the range as narrow as possible"
   ]
  },
  {
   "cell_type": "code",
   "execution_count": 4,
   "metadata": {
    "_uuid": "a0962e7ab187fc72b1e9292df0ed69180254276f"
   },
   "outputs": [],
   "source": [
    "lgbBO = BayesianOptimization(lgb_eval, {'num_leaves': (35, 65),\n",
    "                                        'feature_fraction': (0.1, 0.9),\n",
    "                                        'bagging_fraction': (0.8, 1),\n",
    "                                        'max_depth': (5, 8.99),\n",
    "                                        'lambda_l1': (0, 5),\n",
    "                                        'lambda_l2': (0, 3),\n",
    "                                        'min_split_gain': (0.001, 0.1),\n",
    "                                        'min_child_weight': (5, 50)}, random_state=0)"
   ]
  },
  {
   "cell_type": "markdown",
   "metadata": {
    "_uuid": "2b683fc24ec1527392b173ac7035873de0a501dc"
   },
   "source": [
    "### Step 3: Bayesian Optimization: Maximize"
   ]
  },
  {
   "cell_type": "code",
   "execution_count": 7,
   "metadata": {
    "_uuid": "5ec2289350b5495bbbe26b004d117fa472dcfe62"
   },
   "outputs": [],
   "source": [
    "#lgbBO.maximize(init_points=init_round, n_iter=opt_round)"
   ]
  },
  {
   "cell_type": "markdown",
   "metadata": {
    "_uuid": "da31d0363b7dadae7a7d9b83e6fd4739bd21b9c9"
   },
   "source": [
    "### Step 4: Get the parameters"
   ]
  },
  {
   "cell_type": "code",
   "execution_count": 8,
   "metadata": {
    "_uuid": "27b4de927f17d02ccc9069882a32a52c7cc09738"
   },
   "outputs": [],
   "source": [
    "# lgbBO.res['max']['max_params']"
   ]
  },
  {
   "cell_type": "markdown",
   "metadata": {
    "_uuid": "b6259359813067b5117714076b26b6331ff7ade7"
   },
   "source": [
    "### Put all together\n",
    "**Note**: It is just a demo. To get a better result, you should increase initial rounds, optimization rounds and n_estimators"
   ]
  },
  {
   "cell_type": "code",
   "execution_count": 5,
   "metadata": {
    "_uuid": "3523303f8f6ff9a9dff3fca9849240e6284feda1"
   },
   "outputs": [
    {
     "name": "stdout",
     "output_type": "stream",
     "text": [
      "\u001b[31mInitialization\u001b[0m\n",
      "\u001b[94m------------------------------------------------------------------------------------------------------------------------------------------------------------------------\u001b[0m\n",
      " Step |   Time |      Value |   bagging_fraction |   feature_fraction |   lambda_l1 |   lambda_l2 |   max_depth |   min_child_weight |   min_split_gain |   num_leaves | \n",
      "[200]\tcv_agg's auc: 0.750692 + 0.00285883\n",
      "[400]\tcv_agg's auc: 0.75686 + 0.00247826\n",
      "[600]\tcv_agg's auc: 0.758796 + 0.00219121\n",
      "[800]\tcv_agg's auc: 0.75983 + 0.00201034\n",
      "[1000]\tcv_agg's auc: 0.760414 + 0.00200279\n",
      "[1200]\tcv_agg's auc: 0.760633 + 0.00198488\n",
      "    1 | 03m48s | \u001b[35m   0.76068\u001b[0m | \u001b[32m            0.9583\u001b[0m | \u001b[32m            0.6167\u001b[0m | \u001b[32m     4.8931\u001b[0m | \u001b[32m     1.9198\u001b[0m | \u001b[32m     5.3476\u001b[0m | \u001b[32m           32.7936\u001b[0m | \u001b[32m          0.0272\u001b[0m | \u001b[32m     51.4644\u001b[0m | \n",
      "[200]\tcv_agg's auc: 0.751518 + 0.002753\n",
      "[400]\tcv_agg's auc: 0.757189 + 0.00235968\n",
      "[600]\tcv_agg's auc: 0.759099 + 0.00214105\n",
      "[800]\tcv_agg's auc: 0.760087 + 0.0019982\n",
      "[1000]\tcv_agg's auc: 0.760659 + 0.00186824\n",
      "[1200]\tcv_agg's auc: 0.760923 + 0.00179841\n",
      "[1400]\tcv_agg's auc: 0.761057 + 0.00176766\n",
      "    2 | 03m28s | \u001b[35m   0.76107\u001b[0m | \u001b[32m            0.9058\u001b[0m | \u001b[32m            0.4501\u001b[0m | \u001b[32m     3.9958\u001b[0m | \u001b[32m     0.4301\u001b[0m | \u001b[32m     5.0807\u001b[0m | \u001b[32m           32.5443\u001b[0m | \u001b[32m          0.0776\u001b[0m | \u001b[32m     56.4557\u001b[0m | \n",
      "[200]\tcv_agg's auc: 0.754125 + 0.00304051\n",
      "[400]\tcv_agg's auc: 0.758734 + 0.00239115\n",
      "[600]\tcv_agg's auc: 0.759619 + 0.0022838\n",
      "[800]\tcv_agg's auc: 0.759573 + 0.00224444\n",
      "    3 | 04m01s |    0.75970 |             0.9136 |             0.8134 |      2.3074 |      2.8340 |      8.3222 |            32.7620 |           0.0462 |      53.0829 | \n",
      "[200]\tcv_agg's auc: 0.754069 + 0.00297456\n",
      "[400]\tcv_agg's auc: 0.758661 + 0.00275523\n",
      "[600]\tcv_agg's auc: 0.759603 + 0.00251689\n",
      "[800]\tcv_agg's auc: 0.759624 + 0.00255928\n",
      "    4 | 04m15s |    0.75971 |             0.9851 |             0.8709 |      3.9026 |      1.5655 |      8.1048 |            47.4687 |           0.0573 |      51.3465 | \n",
      "[200]\tcv_agg's auc: 0.754788 + 0.00247106\n",
      "[400]\tcv_agg's auc: 0.759088 + 0.00222062\n",
      "[600]\tcv_agg's auc: 0.760435 + 0.0020166\n",
      "[800]\tcv_agg's auc: 0.760901 + 0.00188852\n",
      "[1000]\tcv_agg's auc: 0.760928 + 0.00181952\n",
      "    5 | 03m15s |    0.76097 |             0.8142 |             0.4068 |      0.5914 |      1.2440 |      8.4713 |            35.6819 |           0.0029 |      47.7096 | \n",
      "\u001b[31mBayesian Optimization\u001b[0m\n",
      "\u001b[94m------------------------------------------------------------------------------------------------------------------------------------------------------------------------\u001b[0m\n",
      " Step |   Time |      Value |   bagging_fraction |   feature_fraction |   lambda_l1 |   lambda_l2 |   max_depth |   min_child_weight |   min_split_gain |   num_leaves | \n",
      "[200]\tcv_agg's auc: 0.753285 + 0.00270645\n",
      "[400]\tcv_agg's auc: 0.758936 + 0.00227637\n",
      "[600]\tcv_agg's auc: 0.760393 + 0.00209889\n",
      "[800]\tcv_agg's auc: 0.760776 + 0.00205969\n",
      "[1000]\tcv_agg's auc: 0.760894 + 0.00185945\n",
      "[1200]\tcv_agg's auc: 0.760935 + 0.00176893\n",
      "    6 | 04m09s |    0.76098 |             0.8976 |             0.5526 |      4.8575 |      0.3176 |      7.9143 |             5.9105 |           0.0612 |      35.7726 | \n",
      "[200]\tcv_agg's auc: 0.750769 + 0.00294507\n",
      "[400]\tcv_agg's auc: 0.75681 + 0.0023526\n",
      "[600]\tcv_agg's auc: 0.758478 + 0.00205875\n",
      "[800]\tcv_agg's auc: 0.759406 + 0.00203022\n",
      "[1000]\tcv_agg's auc: 0.759696 + 0.00199923\n",
      "    7 | 04m03s |    0.75976 |             0.9288 |             0.8308 |      0.2617 |      0.0731 |      5.2857 |            47.2232 |           0.0835 |      35.6078 | \n",
      "[200]\tcv_agg's auc: 0.753391 + 0.00282\n",
      "[400]\tcv_agg's auc: 0.759039 + 0.00231793\n",
      "[600]\tcv_agg's auc: 0.760411 + 0.00217097\n",
      "[800]\tcv_agg's auc: 0.760684 + 0.00196993\n",
      "    8 | 03m55s |    0.76073 |             0.9617 |             0.6362 |      4.8789 |      0.1477 |      8.9724 |            34.4301 |           0.0629 |      35.1579 | \n",
      "[200]\tcv_agg's auc: 0.747023 + 0.00208683\n",
      "[400]\tcv_agg's auc: 0.755935 + 0.00209275\n",
      "[600]\tcv_agg's auc: 0.758643 + 0.00184723\n",
      "[800]\tcv_agg's auc: 0.759319 + 0.00178223\n",
      "[1000]\tcv_agg's auc: 0.759852 + 0.00164882\n",
      "[1200]\tcv_agg's auc: 0.75991 + 0.00161358\n",
      "    9 | 03m02s |    0.75997 |             0.8101 |             0.1537 |      4.7720 |      0.5073 |      7.8074 |             5.4738 |           0.0696 |      61.7948 | \n",
      "[200]\tcv_agg's auc: 0.740514 + 0.00243318\n",
      "[400]\tcv_agg's auc: 0.751701 + 0.00227285\n",
      "[600]\tcv_agg's auc: 0.756163 + 0.00214297\n",
      "[800]\tcv_agg's auc: 0.757988 + 0.00206789\n",
      "[1000]\tcv_agg's auc: 0.758694 + 0.00201544\n",
      "[1200]\tcv_agg's auc: 0.759205 + 0.00192091\n",
      "[1400]\tcv_agg's auc: 0.759596 + 0.00185247\n",
      "[1600]\tcv_agg's auc: 0.759797 + 0.00182298\n",
      "[1800]\tcv_agg's auc: 0.759901 + 0.00179326\n",
      "   10 | 02m57s |    0.75993 |             0.8065 |             0.1181 |      3.9660 |      2.3136 |      5.0556 |            24.1188 |           0.0593 |      35.2225 | \n",
      "[200]\tcv_agg's auc: 0.750912 + 0.00237776\n",
      "[400]\tcv_agg's auc: 0.757058 + 0.00214716\n",
      "[600]\tcv_agg's auc: 0.759094 + 0.00198798\n",
      "[800]\tcv_agg's auc: 0.759936 + 0.00197698\n",
      "[1000]\tcv_agg's auc: 0.760428 + 0.00197431\n",
      "[1200]\tcv_agg's auc: 0.760732 + 0.00192939\n",
      "[1400]\tcv_agg's auc: 0.760916 + 0.00196128\n",
      "   11 | 02m53s |    0.76093 |             0.9819 |             0.2248 |      0.3725 |      0.1220 |      5.0451 |             5.5836 |           0.0232 |      47.3886 | \n",
      "[200]\tcv_agg's auc: 0.752536 + 0.00279623\n",
      "[400]\tcv_agg's auc: 0.757632 + 0.00237247\n",
      "[600]\tcv_agg's auc: 0.758973 + 0.00213865\n",
      "[800]\tcv_agg's auc: 0.759531 + 0.00211193\n",
      "[1000]\tcv_agg's auc: 0.759534 + 0.00207662\n",
      "   12 | 04m34s |    0.75964 |             0.8279 |             0.8910 |      4.9166 |      0.0655 |      5.8547 |            14.2635 |           0.0239 |      48.4033 | \n",
      "[200]\tcv_agg's auc: 0.73983 + 0.00223079\n",
      "[400]\tcv_agg's auc: 0.751173 + 0.00205243\n",
      "[600]\tcv_agg's auc: 0.755962 + 0.00199724\n",
      "[800]\tcv_agg's auc: 0.757818 + 0.0019682\n",
      "[1000]\tcv_agg's auc: 0.758452 + 0.0018877\n",
      "[1200]\tcv_agg's auc: 0.758692 + 0.00192442\n",
      "[1400]\tcv_agg's auc: 0.758863 + 0.0017842\n",
      "   13 | 03m08s |    0.75895 |             0.9869 |             0.1052 |      3.7924 |      0.0719 |      8.7482 |            23.5904 |           0.0642 |      45.0359 | \n",
      "[200]\tcv_agg's auc: 0.750759 + 0.00302251\n",
      "[400]\tcv_agg's auc: 0.756678 + 0.00248847\n",
      "[600]\tcv_agg's auc: 0.758524 + 0.00227308\n",
      "[800]\tcv_agg's auc: 0.759285 + 0.00213105\n",
      "[1000]\tcv_agg's auc: 0.759584 + 0.00211472\n",
      "[1200]\tcv_agg's auc: 0.759666 + 0.0020047\n",
      "   14 | 04m29s |    0.75967 |             0.8684 |             0.8788 |      0.1164 |      1.3464 |      5.0503 |            49.3884 |           0.0221 |      64.8746 | \n",
      "[200]\tcv_agg's auc: 0.750867 + 0.00293742\n",
      "[400]\tcv_agg's auc: 0.756846 + 0.00229075\n",
      "[600]\tcv_agg's auc: 0.758607 + 0.0020018\n",
      "[800]\tcv_agg's auc: 0.759411 + 0.00187381\n",
      "[1000]\tcv_agg's auc: 0.759736 + 0.0018526\n",
      "   15 | 03m51s |    0.75987 |             0.9693 |             0.6726 |      0.5949 |      2.9798 |      5.1325 |             5.4197 |           0.0337 |      64.0921 | \n"
     ]
    }
   ],
   "source": [
    "X = application_train.drop('TARGET', axis=1)\n",
    "y = application_train.TARGET\n",
    "def bayes_parameter_opt_lgb(X, y, init_round=15, opt_round=25, n_folds=5, random_seed=6, n_estimators=10000, learning_rate=0.05, output_process=False):\n",
    "    # prepare data\n",
    "    train_data = lgb.Dataset(data=X, label=y, categorical_feature = categorical_feats, free_raw_data=False)\n",
    "    # parameters\n",
    "    def lgb_eval(num_leaves, feature_fraction, bagging_fraction, max_depth, lambda_l1, lambda_l2, min_split_gain, min_child_weight):\n",
    "        params = {'application':'binary','num_iterations': n_estimators, 'learning_rate':learning_rate, 'early_stopping_round':100, 'metric':'auc'}\n",
    "        params[\"num_leaves\"] = int(round(num_leaves))\n",
    "        params['feature_fraction'] = max(min(feature_fraction, 1), 0)\n",
    "        params['bagging_fraction'] = max(min(bagging_fraction, 1), 0)\n",
    "        params['max_depth'] = int(round(max_depth))\n",
    "        params['lambda_l1'] = max(lambda_l1, 0)\n",
    "        params['lambda_l2'] = max(lambda_l2, 0)\n",
    "        params['min_split_gain'] = min_split_gain\n",
    "        params['min_child_weight'] = min_child_weight\n",
    "        cv_result = lgb.cv(params, train_data, nfold=n_folds, seed=random_seed, stratified=True, verbose_eval =200, metrics=['auc'])\n",
    "        return max(cv_result['auc-mean'])\n",
    "    # range \n",
    "    lgbBO = BayesianOptimization(lgb_eval, {'num_leaves': (35, 65),\n",
    "                                            'feature_fraction': (0.1, 0.9),\n",
    "                                            'bagging_fraction': (0.8, 1),\n",
    "                                            'max_depth': (5, 8.99),\n",
    "                                            'lambda_l1': (0, 5),\n",
    "                                            'lambda_l2': (0, 3),\n",
    "                                            'min_split_gain': (0.001, 0.1),\n",
    "                                            'min_child_weight': (5, 50)}, random_state=0)\n",
    "    # optimize\n",
    "    lgbBO.maximize(init_points=init_round, n_iter=opt_round)\n",
    "    \n",
    "    # output optimization process\n",
    "    if output_process==True: lgbBO.points_to_csv(\"bayes_opt_result.csv\")\n",
    "    \n",
    "    # return best parameters\n",
    "    return lgbBO.res['max']['max_params']\n",
    "\n",
    "opt_params = bayes_parameter_opt_lgb(X, y, init_round=5, opt_round=10, n_folds=5, random_seed=0, n_estimators=10000, learning_rate=0.02)"
   ]
  },
  {
   "cell_type": "code",
   "execution_count": 2,
   "metadata": {
    "_uuid": "73b0d3a7f9a21cc11f2958a51b54bb29a9e9e978"
   },
   "outputs": [
    {
     "ename": "NameError",
     "evalue": "name 'opt_params' is not defined",
     "output_type": "error",
     "traceback": [
      "\u001b[0;31m---------------------------------------------------------------------------\u001b[0m",
      "\u001b[0;31mNameError\u001b[0m                                 Traceback (most recent call last)",
      "\u001b[0;32m<ipython-input-2-7bdb10c4c56e>\u001b[0m in \u001b[0;36m<module>\u001b[0;34m()\u001b[0m\n\u001b[0;32m----> 1\u001b[0;31m \u001b[0mprint\u001b[0m\u001b[0;34m(\u001b[0m\u001b[0mopt_params\u001b[0m\u001b[0;34m)\u001b[0m\u001b[0;34m\u001b[0m\u001b[0m\n\u001b[0m",
      "\u001b[0;31mNameError\u001b[0m: name 'opt_params' is not defined"
     ]
    }
   ],
   "source": [
    "print(opt_params)"
   ]
  },
  {
   "cell_type": "code",
   "execution_count": null,
   "metadata": {},
   "outputs": [],
   "source": []
  }
 ],
 "metadata": {
  "kernelspec": {
   "display_name": "Python 3",
   "language": "python",
   "name": "python3"
  },
  "language_info": {
   "codemirror_mode": {
    "name": "ipython",
    "version": 3
   },
   "file_extension": ".py",
   "mimetype": "text/x-python",
   "name": "python",
   "nbconvert_exporter": "python",
   "pygments_lexer": "ipython3",
   "version": "3.6.5"
  }
 },
 "nbformat": 4,
 "nbformat_minor": 1
}
